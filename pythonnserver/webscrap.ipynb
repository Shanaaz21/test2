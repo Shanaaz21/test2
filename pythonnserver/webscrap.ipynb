{
  "cells": [
    {
      "cell_type": "code",
      "execution_count": 40,
      "metadata": {
        "id": "cHX4QUJMx-RG"
      },
      "outputs": [],
      "source": [
        "import pandas as pd\n",
        "from sklearn.model_selection import train_test_split\n",
        "from sklearn.ensemble import RandomForestClassifier\n",
        "\n",
        "# Load the dataset into a pandas dataframe\n",
        "df = pd.read_csv('cwurData.csv')\n"
      ]
    },
    {
      "cell_type": "code",
      "execution_count": 41,
      "metadata": {
        "colab": {
          "base_uri": "https://localhost:8080/",
          "height": 392
        },
        "id": "YYh7rDUD0vMF",
        "outputId": "8f97c682-b54c-477f-a006-e9c18d1f3699"
      },
      "outputs": [
        {
          "data": {
            "text/html": [
              "<div>\n",
              "<style scoped>\n",
              "    .dataframe tbody tr th:only-of-type {\n",
              "        vertical-align: middle;\n",
              "    }\n",
              "\n",
              "    .dataframe tbody tr th {\n",
              "        vertical-align: top;\n",
              "    }\n",
              "\n",
              "    .dataframe thead th {\n",
              "        text-align: right;\n",
              "    }\n",
              "</style>\n",
              "<table border=\"1\" class=\"dataframe\">\n",
              "  <thead>\n",
              "    <tr style=\"text-align: right;\">\n",
              "      <th></th>\n",
              "      <th>world_rank</th>\n",
              "      <th>institution</th>\n",
              "      <th>country</th>\n",
              "      <th>national_rank</th>\n",
              "      <th>quality_of_education</th>\n",
              "      <th>alumni_employment</th>\n",
              "      <th>quality_of_faculty</th>\n",
              "      <th>publications</th>\n",
              "      <th>influence</th>\n",
              "      <th>citations</th>\n",
              "      <th>broad_impact</th>\n",
              "      <th>patents</th>\n",
              "      <th>score</th>\n",
              "      <th>year</th>\n",
              "    </tr>\n",
              "  </thead>\n",
              "  <tbody>\n",
              "    <tr>\n",
              "      <th>0</th>\n",
              "      <td>1</td>\n",
              "      <td>Harvard University</td>\n",
              "      <td>USA</td>\n",
              "      <td>1</td>\n",
              "      <td>7</td>\n",
              "      <td>9</td>\n",
              "      <td>1</td>\n",
              "      <td>1</td>\n",
              "      <td>1</td>\n",
              "      <td>1</td>\n",
              "      <td>NaN</td>\n",
              "      <td>5</td>\n",
              "      <td>100.00</td>\n",
              "      <td>2012</td>\n",
              "    </tr>\n",
              "    <tr>\n",
              "      <th>1</th>\n",
              "      <td>2</td>\n",
              "      <td>Massachusetts Institute of Technology</td>\n",
              "      <td>USA</td>\n",
              "      <td>2</td>\n",
              "      <td>9</td>\n",
              "      <td>17</td>\n",
              "      <td>3</td>\n",
              "      <td>12</td>\n",
              "      <td>4</td>\n",
              "      <td>4</td>\n",
              "      <td>NaN</td>\n",
              "      <td>1</td>\n",
              "      <td>91.67</td>\n",
              "      <td>2012</td>\n",
              "    </tr>\n",
              "    <tr>\n",
              "      <th>2</th>\n",
              "      <td>3</td>\n",
              "      <td>Stanford University</td>\n",
              "      <td>USA</td>\n",
              "      <td>3</td>\n",
              "      <td>17</td>\n",
              "      <td>11</td>\n",
              "      <td>5</td>\n",
              "      <td>4</td>\n",
              "      <td>2</td>\n",
              "      <td>2</td>\n",
              "      <td>NaN</td>\n",
              "      <td>15</td>\n",
              "      <td>89.50</td>\n",
              "      <td>2012</td>\n",
              "    </tr>\n",
              "    <tr>\n",
              "      <th>3</th>\n",
              "      <td>4</td>\n",
              "      <td>University of Cambridge</td>\n",
              "      <td>United Kingdom</td>\n",
              "      <td>1</td>\n",
              "      <td>10</td>\n",
              "      <td>24</td>\n",
              "      <td>4</td>\n",
              "      <td>16</td>\n",
              "      <td>16</td>\n",
              "      <td>11</td>\n",
              "      <td>NaN</td>\n",
              "      <td>50</td>\n",
              "      <td>86.17</td>\n",
              "      <td>2012</td>\n",
              "    </tr>\n",
              "    <tr>\n",
              "      <th>4</th>\n",
              "      <td>5</td>\n",
              "      <td>California Institute of Technology</td>\n",
              "      <td>USA</td>\n",
              "      <td>4</td>\n",
              "      <td>2</td>\n",
              "      <td>29</td>\n",
              "      <td>7</td>\n",
              "      <td>37</td>\n",
              "      <td>22</td>\n",
              "      <td>22</td>\n",
              "      <td>NaN</td>\n",
              "      <td>18</td>\n",
              "      <td>85.21</td>\n",
              "      <td>2012</td>\n",
              "    </tr>\n",
              "  </tbody>\n",
              "</table>\n",
              "</div>"
            ],
            "text/plain": [
              "   world_rank                            institution         country  \\\n",
              "0           1                     Harvard University             USA   \n",
              "1           2  Massachusetts Institute of Technology             USA   \n",
              "2           3                    Stanford University             USA   \n",
              "3           4                University of Cambridge  United Kingdom   \n",
              "4           5     California Institute of Technology             USA   \n",
              "\n",
              "   national_rank  quality_of_education  alumni_employment  quality_of_faculty  \\\n",
              "0              1                     7                  9                   1   \n",
              "1              2                     9                 17                   3   \n",
              "2              3                    17                 11                   5   \n",
              "3              1                    10                 24                   4   \n",
              "4              4                     2                 29                   7   \n",
              "\n",
              "   publications  influence  citations  broad_impact  patents   score  year  \n",
              "0             1          1          1           NaN        5  100.00  2012  \n",
              "1            12          4          4           NaN        1   91.67  2012  \n",
              "2             4          2          2           NaN       15   89.50  2012  \n",
              "3            16         16         11           NaN       50   86.17  2012  \n",
              "4            37         22         22           NaN       18   85.21  2012  "
            ]
          },
          "execution_count": 41,
          "metadata": {},
          "output_type": "execute_result"
        }
      ],
      "source": [
        "df.head()"
      ]
    },
    {
      "cell_type": "code",
      "execution_count": 42,
      "metadata": {
        "colab": {
          "base_uri": "https://localhost:8080/",
          "height": 206
        },
        "id": "_E5aPtgA1Dcy",
        "outputId": "8eaff7cf-f3e2-4a19-8f0a-1ed4927a467b"
      },
      "outputs": [
        {
          "data": {
            "text/html": [
              "<div>\n",
              "<style scoped>\n",
              "    .dataframe tbody tr th:only-of-type {\n",
              "        vertical-align: middle;\n",
              "    }\n",
              "\n",
              "    .dataframe tbody tr th {\n",
              "        vertical-align: top;\n",
              "    }\n",
              "\n",
              "    .dataframe thead th {\n",
              "        text-align: right;\n",
              "    }\n",
              "</style>\n",
              "<table border=\"1\" class=\"dataframe\">\n",
              "  <thead>\n",
              "    <tr style=\"text-align: right;\">\n",
              "      <th></th>\n",
              "      <th>quality_of_education</th>\n",
              "      <th>quality_of_faculty</th>\n",
              "      <th>influence</th>\n",
              "      <th>score</th>\n",
              "      <th>institution</th>\n",
              "    </tr>\n",
              "  </thead>\n",
              "  <tbody>\n",
              "    <tr>\n",
              "      <th>0</th>\n",
              "      <td>7</td>\n",
              "      <td>1</td>\n",
              "      <td>1</td>\n",
              "      <td>100.00</td>\n",
              "      <td>Harvard University</td>\n",
              "    </tr>\n",
              "    <tr>\n",
              "      <th>1</th>\n",
              "      <td>9</td>\n",
              "      <td>3</td>\n",
              "      <td>4</td>\n",
              "      <td>91.67</td>\n",
              "      <td>Massachusetts Institute of Technology</td>\n",
              "    </tr>\n",
              "    <tr>\n",
              "      <th>2</th>\n",
              "      <td>17</td>\n",
              "      <td>5</td>\n",
              "      <td>2</td>\n",
              "      <td>89.50</td>\n",
              "      <td>Stanford University</td>\n",
              "    </tr>\n",
              "    <tr>\n",
              "      <th>3</th>\n",
              "      <td>10</td>\n",
              "      <td>4</td>\n",
              "      <td>16</td>\n",
              "      <td>86.17</td>\n",
              "      <td>University of Cambridge</td>\n",
              "    </tr>\n",
              "    <tr>\n",
              "      <th>4</th>\n",
              "      <td>2</td>\n",
              "      <td>7</td>\n",
              "      <td>22</td>\n",
              "      <td>85.21</td>\n",
              "      <td>California Institute of Technology</td>\n",
              "    </tr>\n",
              "  </tbody>\n",
              "</table>\n",
              "</div>"
            ],
            "text/plain": [
              "   quality_of_education  quality_of_faculty  influence   score  \\\n",
              "0                     7                   1          1  100.00   \n",
              "1                     9                   3          4   91.67   \n",
              "2                    17                   5          2   89.50   \n",
              "3                    10                   4         16   86.17   \n",
              "4                     2                   7         22   85.21   \n",
              "\n",
              "                             institution  \n",
              "0                     Harvard University  \n",
              "1  Massachusetts Institute of Technology  \n",
              "2                    Stanford University  \n",
              "3                University of Cambridge  \n",
              "4     California Institute of Technology  "
            ]
          },
          "execution_count": 42,
          "metadata": {},
          "output_type": "execute_result"
        }
      ],
      "source": [
        "df_ = df[['quality_of_education', 'quality_of_faculty', 'influence', 'score','institution']]\n",
        "df_.head()"
      ]
    },
    {
      "cell_type": "code",
      "execution_count": 43,
      "metadata": {
        "id": "P7E0w1Oj4klj"
      },
      "outputs": [],
      "source": [
        "df_ = df_.drop_duplicates()\n",
        "df_ = df_.dropna()"
      ]
    },
    {
      "cell_type": "code",
      "execution_count": 44,
      "metadata": {
        "id": "pe5ulZeh0yGZ"
      },
      "outputs": [],
      "source": [
        "# Split the dataset into training and testing sets (80:20 ratio)\n",
        "X_train, X_test, y_train, y_test = train_test_split(df_[['quality_of_education', 'quality_of_faculty', 'influence', 'score']], \n",
        "                                                    df_['institution'], test_size=0.2, random_state=42)\n"
      ]
    },
    {
      "cell_type": "code",
      "execution_count": 45,
      "metadata": {
        "colab": {
          "base_uri": "https://localhost:8080/",
          "height": 75
        },
        "id": "xAnvoGq80_5M",
        "outputId": "6ef18f51-ef1d-4c61-bc01-1c726e735d50"
      },
      "outputs": [
        {
          "data": {
            "text/plain": [
              "RandomForestClassifier(random_state=42)"
            ]
          },
          "execution_count": 45,
          "metadata": {},
          "output_type": "execute_result"
        }
      ],
      "source": [
        "# Train a Random Forest Classifier on the training data\n",
        "clf = RandomForestClassifier(n_estimators=100, random_state=42)\n",
        "clf.fit(X_train, y_train)"
      ]
    },
    {
      "cell_type": "code",
      "execution_count": 46,
      "metadata": {
        "colab": {
          "base_uri": "https://localhost:8080/"
        },
        "id": "STGVRUVc1ZMi",
        "outputId": "740f4396-66fd-4cc1-87fa-8287ad6d7d9b"
      },
      "outputs": [
        {
          "name": "stdout",
          "output_type": "stream",
          "text": [
            "Accuracy: 0.1590909090909091\n"
          ]
        }
      ],
      "source": [
        "# Evaluate the model on the testing data\n",
        "accuracy = clf.score(X_test, y_test)\n",
        "print(\"Accuracy:\", accuracy)"
      ]
    },
    {
      "cell_type": "code",
      "execution_count": 59,
      "metadata": {},
      "outputs": [],
      "source": [
        "def return_vals(pred):\n",
        "    row = df.loc[df['institution'] == pred, :].iloc[0].to_dict()\n",
        "    print(row)"
      ]
    },
    {
      "cell_type": "code",
      "execution_count": 60,
      "metadata": {
        "colab": {
          "base_uri": "https://localhost:8080/"
        },
        "id": "p4sjZ5n51rQK",
        "outputId": "1bc2edf8-50fd-4028-a451-7f074c327534"
      },
      "outputs": [
        {
          "name": "stderr",
          "output_type": "stream",
          "text": [
            "c:\\Users\\Shanaaz Ahamed\\anaconda3\\lib\\site-packages\\sklearn\\base.py:450: UserWarning: X does not have valid feature names, but RandomForestClassifier was fitted with feature names\n",
            "  warnings.warn(\n"
          ]
        },
        {
          "name": "stdout",
          "output_type": "stream",
          "text": [
            "Predicted University Name: Princeton University\n",
            "{'world_rank': 6, 'institution': 'Princeton University', 'country': 'USA', 'national_rank': 5, 'quality_of_education': 8, 'alumni_employment': 14, 'quality_of_faculty': 2, 'publications': 53, 'influence': 33, 'citations': 26, 'broad_impact': nan, 'patents': 101, 'score': 82.5, 'year': 2012}\n"
          ]
        }
      ],
      "source": [
        "# Predict the university name for a new data point\n",
        "new_data = [[4.5, 4.2, 85, 80]]\n",
        "prediction = clf.predict(new_data)\n",
        "print(\"Predicted University Name:\", prediction[0])\n",
        "return_vals(prediction[0])"
      ]
    },
    {
      "cell_type": "code",
      "execution_count": null,
      "metadata": {
        "id": "xwJAItOG4fCy"
      },
      "outputs": [],
      "source": [
        "import pickle\n",
        "\n",
        "# Save the model as a pickle file\n",
        "with open('university_prediction_model.pkl', 'wb') as file:\n",
        "    pickle.dump(clf, file)"
      ]
    },
    {
      "cell_type": "code",
      "execution_count": null,
      "metadata": {},
      "outputs": [
        {
          "name": "stderr",
          "output_type": "stream",
          "text": [
            "c:\\Users\\Shanaaz Ahamed\\anaconda3\\lib\\site-packages\\sklearn\\base.py:450: UserWarning: X does not have valid feature names, but RandomForestClassifier was fitted with feature names\n",
            "  warnings.warn(\n"
          ]
        },
        {
          "name": "stdout",
          "output_type": "stream",
          "text": [
            "Predicted University Name: Princeton University\n"
          ]
        }
      ],
      "source": [
        "# Load the saved model from the pickle file\n",
        "with open('university_prediction_model.pkl', 'rb') as file:\n",
        "    loaded_model = pickle.load(file)\n",
        "\n",
        "# Use the loaded model to make predictions on new data\n",
        "new_data = [[4.5, 4.2, 85, 80]]\n",
        "prediction = loaded_model.predict(new_data)\n",
        "print(\"Predicted University Name:\", prediction[0])\n"
      ]
    },
    {
      "cell_type": "code",
      "execution_count": null,
      "metadata": {},
      "outputs": [
        {
          "name": "stdout",
          "output_type": "stream",
          "text": [
            "Predicted University Name: Cornell University\n"
          ]
        },
        {
          "name": "stderr",
          "output_type": "stream",
          "text": [
            "c:\\Users\\Shanaaz Ahamed\\anaconda3\\lib\\site-packages\\sklearn\\base.py:450: UserWarning: X does not have valid feature names, but RandomForestClassifier was fitted with feature names\n",
            "  warnings.warn(\n"
          ]
        }
      ],
      "source": [
        "new_data = [[10,15, 85, 100]]\n",
        "prediction = loaded_model.predict(new_data)\n",
        "print(\"Predicted University Name:\", prediction[0])"
      ]
    }
  ],
  "metadata": {
    "colab": {
      "provenance": []
    },
    "kernelspec": {
      "display_name": "Python 3",
      "language": "python",
      "name": "python3"
    },
    "language_info": {
      "codemirror_mode": {
        "name": "ipython",
        "version": 3
      },
      "file_extension": ".py",
      "mimetype": "text/x-python",
      "name": "python",
      "nbconvert_exporter": "python",
      "pygments_lexer": "ipython3",
      "version": "3.9.13"
    },
    "vscode": {
      "interpreter": {
        "hash": "e9f472b00c6999bb4f89bcf5562acf1c9cffc7ed097200fdbaf6997929663ad5"
      }
    }
  },
  "nbformat": 4,
  "nbformat_minor": 0
}
